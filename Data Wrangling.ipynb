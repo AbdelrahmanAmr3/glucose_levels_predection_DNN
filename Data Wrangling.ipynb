{
 "cells": [
  {
   "cell_type": "markdown",
   "metadata": {},
   "source": [
    "# Data Wrangling\n",
    "    - For bulid neural network to predict the blood glucose levels, the data used in this project provided by Michael Kahn, MD, PhD, Washington University, St. Louis, MO. \n",
    "    \n",
    "    Data Set Information:\n",
    "\n",
    "    Diabetes patient records were obtained from two sources: an automatic electronic recording device and paper records. The automatic device had an internal clock to timestamp events, whereas the paper records only provided \"logical time\" slots (breakfast, lunch, dinner, bedtime). For paper records, fixed times were assigned to breakfast (08:00), lunch (12:00), dinner (18:00), and bedtime (22:00). Thus paper records have fictitious uniform recording times whereas electronic records have more realistic time stamps.\n",
    "\n",
    "Diabetes files consist of four fields per record. Each field is separated by a tab and each record is separated by a newline.\n",
    "\n",
    "    File Names and format:\n",
    "    (1) Date in MM-DD-YYYY format\n",
    "    (2) Time in XX:YY format\n",
    "    (3) Code\n",
    "    (4) Value\n",
    "\n",
    "File Names and format:\n",
    "\n",
    "        (1) Date in MM-DD-YYYY format\n",
    "        (2) Time in XX:YY format\n",
    "        (3) Code\n",
    "        (4) Value\n",
    "\n",
    "The Code field is deciphered as follows:\n",
    "\n",
    "    33 = Regular insulin dose\n",
    "    34 = NPH insulin dose\n",
    "    35 = UltraLente insulin dose\n",
    "    48 = Unspecified blood glucose measurement\n",
    "    57 = Unspecified blood glucose measurement\n",
    "    58 = Pre-breakfast blood glucose measurement\n",
    "    59 = Post-breakfast blood glucose measurement\n",
    "    60 = Pre-lunch blood glucose measurement\n",
    "    61 = Post-lunch blood glucose measurement\n",
    "    62 = Pre-supper blood glucose measurement\n",
    "    \n",
    "The aim:\n",
    "\n",
    "      to prepare the data to be able to use as neural network inputs."
   ]
  },
  {
   "cell_type": "code",
   "execution_count": 391,
   "metadata": {},
   "outputs": [],
   "source": [
    "import pandas as pd\n",
    "import numpy as np"
   ]
  },
  {
   "cell_type": "code",
   "execution_count": 392,
   "metadata": {},
   "outputs": [],
   "source": [
    "col = [\"date\",\"time\",\"code\",\"value\"]\n",
    "df = pd.read_csv(\"data-29\",sep='\\t',names=col,)"
   ]
  },
  {
   "cell_type": "code",
   "execution_count": 393,
   "metadata": {},
   "outputs": [
    {
     "data": {
      "text/html": [
       "<div>\n",
       "<style scoped>\n",
       "    .dataframe tbody tr th:only-of-type {\n",
       "        vertical-align: middle;\n",
       "    }\n",
       "\n",
       "    .dataframe tbody tr th {\n",
       "        vertical-align: top;\n",
       "    }\n",
       "\n",
       "    .dataframe thead th {\n",
       "        text-align: right;\n",
       "    }\n",
       "</style>\n",
       "<table border=\"1\" class=\"dataframe\">\n",
       "  <thead>\n",
       "    <tr style=\"text-align: right;\">\n",
       "      <th></th>\n",
       "      <th>date</th>\n",
       "      <th>time</th>\n",
       "      <th>code</th>\n",
       "      <th>value</th>\n",
       "    </tr>\n",
       "  </thead>\n",
       "  <tbody>\n",
       "    <tr>\n",
       "      <th>0</th>\n",
       "      <td>04-29-1990</td>\n",
       "      <td>7:00</td>\n",
       "      <td>58</td>\n",
       "      <td>136</td>\n",
       "    </tr>\n",
       "    <tr>\n",
       "      <th>1</th>\n",
       "      <td>04-29-1990</td>\n",
       "      <td>7:00</td>\n",
       "      <td>33</td>\n",
       "      <td>007</td>\n",
       "    </tr>\n",
       "    <tr>\n",
       "      <th>2</th>\n",
       "      <td>04-29-1990</td>\n",
       "      <td>7:00</td>\n",
       "      <td>34</td>\n",
       "      <td>018</td>\n",
       "    </tr>\n",
       "    <tr>\n",
       "      <th>3</th>\n",
       "      <td>04-29-1990</td>\n",
       "      <td>14:00</td>\n",
       "      <td>60</td>\n",
       "      <td>062</td>\n",
       "    </tr>\n",
       "    <tr>\n",
       "      <th>4</th>\n",
       "      <td>04-29-1990</td>\n",
       "      <td>14:00</td>\n",
       "      <td>33</td>\n",
       "      <td>004</td>\n",
       "    </tr>\n",
       "  </tbody>\n",
       "</table>\n",
       "</div>"
      ],
      "text/plain": [
       "         date   time  code value\n",
       "0  04-29-1990   7:00    58   136\n",
       "1  04-29-1990   7:00    33   007\n",
       "2  04-29-1990   7:00    34   018\n",
       "3  04-29-1990  14:00    60   062\n",
       "4  04-29-1990  14:00    33   004"
      ]
     },
     "execution_count": 393,
     "metadata": {},
     "output_type": "execute_result"
    }
   ],
   "source": [
    "df.head()"
   ]
  },
  {
   "cell_type": "code",
   "execution_count": 394,
   "metadata": {},
   "outputs": [
    {
     "data": {
      "text/plain": [
       "0        7:00\n",
       "1        7:00\n",
       "2        7:00\n",
       "3       14:00\n",
       "4       14:00\n",
       "        ...  \n",
       "1284    15:00\n",
       "1285    15:00\n",
       "1286    18:00\n",
       "1287    18:00\n",
       "1288    22:00\n",
       "Name: time, Length: 1289, dtype: object"
      ]
     },
     "execution_count": 394,
     "metadata": {},
     "output_type": "execute_result"
    }
   ],
   "source": [
    "df.pop(\"time\")"
   ]
  },
  {
   "cell_type": "code",
   "execution_count": 395,
   "metadata": {
    "scrolled": true
   },
   "outputs": [],
   "source": [
    "df = pd.pivot_table(df, values='value', index=[\"date\"],columns=['code'], aggfunc=np.sum,dropna=True,fill_value=0)"
   ]
  },
  {
   "cell_type": "code",
   "execution_count": 396,
   "metadata": {},
   "outputs": [
    {
     "data": {
      "text/html": [
       "<div>\n",
       "<style scoped>\n",
       "    .dataframe tbody tr th:only-of-type {\n",
       "        vertical-align: middle;\n",
       "    }\n",
       "\n",
       "    .dataframe tbody tr th {\n",
       "        vertical-align: top;\n",
       "    }\n",
       "\n",
       "    .dataframe thead th {\n",
       "        text-align: right;\n",
       "    }\n",
       "</style>\n",
       "<table border=\"1\" class=\"dataframe\">\n",
       "  <thead>\n",
       "    <tr style=\"text-align: right;\">\n",
       "      <th>code</th>\n",
       "      <th>0</th>\n",
       "      <th>33</th>\n",
       "      <th>34</th>\n",
       "      <th>48</th>\n",
       "      <th>58</th>\n",
       "      <th>60</th>\n",
       "      <th>62</th>\n",
       "    </tr>\n",
       "    <tr>\n",
       "      <th>date</th>\n",
       "      <th></th>\n",
       "      <th></th>\n",
       "      <th></th>\n",
       "      <th></th>\n",
       "      <th></th>\n",
       "      <th></th>\n",
       "      <th></th>\n",
       "    </tr>\n",
       "  </thead>\n",
       "  <tbody>\n",
       "    <tr>\n",
       "      <th>04-29-1990</th>\n",
       "      <td>0</td>\n",
       "      <td>007004006</td>\n",
       "      <td>018</td>\n",
       "      <td>102</td>\n",
       "      <td>136</td>\n",
       "      <td>062</td>\n",
       "      <td>081</td>\n",
       "    </tr>\n",
       "    <tr>\n",
       "      <th>04-30-1990</th>\n",
       "      <td>0</td>\n",
       "      <td>007004006</td>\n",
       "      <td>018</td>\n",
       "      <td>162</td>\n",
       "      <td>097</td>\n",
       "      <td>132</td>\n",
       "      <td>144</td>\n",
       "    </tr>\n",
       "    <tr>\n",
       "      <th>05-01-1990</th>\n",
       "      <td>0</td>\n",
       "      <td>007004006</td>\n",
       "      <td>018</td>\n",
       "      <td>180</td>\n",
       "      <td>183</td>\n",
       "      <td>192</td>\n",
       "      <td>139</td>\n",
       "    </tr>\n",
       "    <tr>\n",
       "      <th>05-02-1990</th>\n",
       "      <td>0</td>\n",
       "      <td>007004006</td>\n",
       "      <td>018</td>\n",
       "      <td>162</td>\n",
       "      <td>151</td>\n",
       "      <td>102</td>\n",
       "      <td>135</td>\n",
       "    </tr>\n",
       "    <tr>\n",
       "      <th>05-03-1990</th>\n",
       "      <td>0</td>\n",
       "      <td>007004006</td>\n",
       "      <td>018</td>\n",
       "      <td>150</td>\n",
       "      <td>167</td>\n",
       "      <td>066</td>\n",
       "      <td>097</td>\n",
       "    </tr>\n",
       "  </tbody>\n",
       "</table>\n",
       "</div>"
      ],
      "text/plain": [
       "code       0          33   34   48   58   60   62\n",
       "date                                             \n",
       "04-29-1990  0  007004006  018  102  136  062  081\n",
       "04-30-1990  0  007004006  018  162  097  132  144\n",
       "05-01-1990  0  007004006  018  180  183  192  139\n",
       "05-02-1990  0  007004006  018  162  151  102  135\n",
       "05-03-1990  0  007004006  018  150  167  066  097"
      ]
     },
     "execution_count": 396,
     "metadata": {},
     "output_type": "execute_result"
    }
   ],
   "source": [
    "df.head()"
   ]
  },
  {
   "cell_type": "code",
   "execution_count": 397,
   "metadata": {},
   "outputs": [],
   "source": [
    "# make string version of original column, call it 'col'\n",
    "df['col'] = df[33].astype(str)\n",
    "\n",
    "# make the new columns using string indexing\n",
    "df['33_1'] = df['col'].str[2:3]\n",
    "df['33_2'] = df['col'].str[5:6]\n",
    "df['33_3'] = df['col'].str[8:9]"
   ]
  },
  {
   "cell_type": "code",
   "execution_count": 398,
   "metadata": {},
   "outputs": [],
   "source": [
    "remove_col = [0,33,\"col\"]\n",
    "for i in remove_col : df.pop(i)"
   ]
  },
  {
   "cell_type": "code",
   "execution_count": 399,
   "metadata": {},
   "outputs": [
    {
     "name": "stdout",
     "output_type": "stream",
     "text": [
      "<class 'pandas.core.frame.DataFrame'>\n",
      "Index: 159 entries, 04-29-1990 to 12-16-1990\n",
      "Data columns (total 8 columns):\n",
      " #   Column  Non-Null Count  Dtype \n",
      "---  ------  --------------  ----- \n",
      " 0   34      159 non-null    object\n",
      " 1   48      159 non-null    object\n",
      " 2   58      159 non-null    object\n",
      " 3   60      159 non-null    object\n",
      " 4   62      159 non-null    object\n",
      " 5   33_1    159 non-null    object\n",
      " 6   33_2    159 non-null    object\n",
      " 7   33_3    159 non-null    object\n",
      "dtypes: object(8)\n",
      "memory usage: 11.2+ KB\n"
     ]
    }
   ],
   "source": [
    "df.info()"
   ]
  },
  {
   "cell_type": "code",
   "execution_count": 390,
   "metadata": {},
   "outputs": [
    {
     "data": {
      "text/html": [
       "<div>\n",
       "<style scoped>\n",
       "    .dataframe tbody tr th:only-of-type {\n",
       "        vertical-align: middle;\n",
       "    }\n",
       "\n",
       "    .dataframe tbody tr th {\n",
       "        vertical-align: top;\n",
       "    }\n",
       "\n",
       "    .dataframe thead th {\n",
       "        text-align: right;\n",
       "    }\n",
       "</style>\n",
       "<table border=\"1\" class=\"dataframe\">\n",
       "  <thead>\n",
       "    <tr style=\"text-align: right;\">\n",
       "      <th>code</th>\n",
       "      <th>34</th>\n",
       "      <th>48</th>\n",
       "      <th>58</th>\n",
       "      <th>60</th>\n",
       "      <th>62</th>\n",
       "      <th>65</th>\n",
       "      <th>33_1</th>\n",
       "      <th>33_2</th>\n",
       "      <th>33_3</th>\n",
       "    </tr>\n",
       "    <tr>\n",
       "      <th>date</th>\n",
       "      <th></th>\n",
       "      <th></th>\n",
       "      <th></th>\n",
       "      <th></th>\n",
       "      <th></th>\n",
       "      <th></th>\n",
       "      <th></th>\n",
       "      <th></th>\n",
       "      <th></th>\n",
       "    </tr>\n",
       "  </thead>\n",
       "  <tbody>\n",
       "    <tr>\n",
       "      <th>04-21-1991</th>\n",
       "      <td>13</td>\n",
       "      <td>123</td>\n",
       "      <td>100</td>\n",
       "      <td>0</td>\n",
       "      <td>119</td>\n",
       "      <td>0</td>\n",
       "      <td></td>\n",
       "      <td></td>\n",
       "      <td></td>\n",
       "    </tr>\n",
       "    <tr>\n",
       "      <th>04-22-1991</th>\n",
       "      <td>13</td>\n",
       "      <td>0</td>\n",
       "      <td>216</td>\n",
       "      <td>0</td>\n",
       "      <td>211</td>\n",
       "      <td>0</td>\n",
       "      <td></td>\n",
       "      <td></td>\n",
       "      <td></td>\n",
       "    </tr>\n",
       "    <tr>\n",
       "      <th>04-23-1991</th>\n",
       "      <td>13</td>\n",
       "      <td>0</td>\n",
       "      <td>257</td>\n",
       "      <td>0</td>\n",
       "      <td>129</td>\n",
       "      <td>0</td>\n",
       "      <td></td>\n",
       "      <td></td>\n",
       "      <td></td>\n",
       "    </tr>\n",
       "    <tr>\n",
       "      <th>04-24-1991</th>\n",
       "      <td>14</td>\n",
       "      <td>340</td>\n",
       "      <td>239</td>\n",
       "      <td>0</td>\n",
       "      <td>129</td>\n",
       "      <td>0</td>\n",
       "      <td></td>\n",
       "      <td></td>\n",
       "      <td></td>\n",
       "    </tr>\n",
       "    <tr>\n",
       "      <th>04-25-1991</th>\n",
       "      <td>14</td>\n",
       "      <td>288</td>\n",
       "      <td>67</td>\n",
       "      <td>0</td>\n",
       "      <td>206</td>\n",
       "      <td>0</td>\n",
       "      <td></td>\n",
       "      <td></td>\n",
       "      <td></td>\n",
       "    </tr>\n",
       "  </tbody>\n",
       "</table>\n",
       "</div>"
      ],
      "text/plain": [
       "code        34   48   58  60   62  65 33_1 33_2 33_3\n",
       "date                                                \n",
       "04-21-1991  13  123  100   0  119   0               \n",
       "04-22-1991  13    0  216   0  211   0               \n",
       "04-23-1991  13    0  257   0  129   0               \n",
       "04-24-1991  14  340  239   0  129   0               \n",
       "04-25-1991  14  288   67   0  206   0               "
      ]
     },
     "execution_count": 390,
     "metadata": {},
     "output_type": "execute_result"
    }
   ],
   "source": [
    "df.head()"
   ]
  },
  {
   "cell_type": "code",
   "execution_count": 352,
   "metadata": {
    "scrolled": false
   },
   "outputs": [],
   "source": [
    "df.to_csv (\"combined.csv\")"
   ]
  },
  {
   "cell_type": "markdown",
   "metadata": {},
   "source": [
    "Take a look with Excel"
   ]
  },
  {
   "cell_type": "code",
   "execution_count": 353,
   "metadata": {},
   "outputs": [
    {
     "data": {
      "text/html": [
       "<div>\n",
       "<style scoped>\n",
       "    .dataframe tbody tr th:only-of-type {\n",
       "        vertical-align: middle;\n",
       "    }\n",
       "\n",
       "    .dataframe tbody tr th {\n",
       "        vertical-align: top;\n",
       "    }\n",
       "\n",
       "    .dataframe thead th {\n",
       "        text-align: right;\n",
       "    }\n",
       "</style>\n",
       "<table border=\"1\" class=\"dataframe\">\n",
       "  <thead>\n",
       "    <tr style=\"text-align: right;\">\n",
       "      <th></th>\n",
       "      <th>34</th>\n",
       "      <th>48</th>\n",
       "      <th>58</th>\n",
       "      <th>60</th>\n",
       "      <th>62</th>\n",
       "      <th>33_1</th>\n",
       "      <th>33_2</th>\n",
       "      <th>33_3</th>\n",
       "    </tr>\n",
       "    <tr>\n",
       "      <th>date</th>\n",
       "      <th></th>\n",
       "      <th></th>\n",
       "      <th></th>\n",
       "      <th></th>\n",
       "      <th></th>\n",
       "      <th></th>\n",
       "      <th></th>\n",
       "      <th></th>\n",
       "    </tr>\n",
       "  </thead>\n",
       "  <tbody>\n",
       "    <tr>\n",
       "      <th>04-29-1990</th>\n",
       "      <td>18</td>\n",
       "      <td>102</td>\n",
       "      <td>136</td>\n",
       "      <td>62</td>\n",
       "      <td>81</td>\n",
       "      <td>7</td>\n",
       "      <td>4.0</td>\n",
       "      <td>6.0</td>\n",
       "    </tr>\n",
       "    <tr>\n",
       "      <th>04-30-1990</th>\n",
       "      <td>18</td>\n",
       "      <td>162</td>\n",
       "      <td>97</td>\n",
       "      <td>132</td>\n",
       "      <td>144</td>\n",
       "      <td>7</td>\n",
       "      <td>4.0</td>\n",
       "      <td>6.0</td>\n",
       "    </tr>\n",
       "    <tr>\n",
       "      <th>05-01-1990</th>\n",
       "      <td>18</td>\n",
       "      <td>180</td>\n",
       "      <td>183</td>\n",
       "      <td>192</td>\n",
       "      <td>139</td>\n",
       "      <td>7</td>\n",
       "      <td>4.0</td>\n",
       "      <td>6.0</td>\n",
       "    </tr>\n",
       "    <tr>\n",
       "      <th>05-02-1990</th>\n",
       "      <td>18</td>\n",
       "      <td>162</td>\n",
       "      <td>151</td>\n",
       "      <td>102</td>\n",
       "      <td>135</td>\n",
       "      <td>7</td>\n",
       "      <td>4.0</td>\n",
       "      <td>6.0</td>\n",
       "    </tr>\n",
       "    <tr>\n",
       "      <th>05-03-1990</th>\n",
       "      <td>18</td>\n",
       "      <td>150</td>\n",
       "      <td>167</td>\n",
       "      <td>66</td>\n",
       "      <td>97</td>\n",
       "      <td>7</td>\n",
       "      <td>4.0</td>\n",
       "      <td>6.0</td>\n",
       "    </tr>\n",
       "  </tbody>\n",
       "</table>\n",
       "</div>"
      ],
      "text/plain": [
       "            34   48   58   60   62  33_1  33_2  33_3\n",
       "date                                                \n",
       "04-29-1990  18  102  136   62   81     7   4.0   6.0\n",
       "04-30-1990  18  162   97  132  144     7   4.0   6.0\n",
       "05-01-1990  18  180  183  192  139     7   4.0   6.0\n",
       "05-02-1990  18  162  151  102  135     7   4.0   6.0\n",
       "05-03-1990  18  150  167   66   97     7   4.0   6.0"
      ]
     },
     "execution_count": 353,
     "metadata": {},
     "output_type": "execute_result"
    }
   ],
   "source": [
    "#the another aim of save and read tha data again to convert the types of columns.\n",
    "df = pd.read_csv(\"combined.csv\",index_col=\"date\")\n",
    "df.head()"
   ]
  },
  {
   "cell_type": "code",
   "execution_count": 354,
   "metadata": {},
   "outputs": [
    {
     "name": "stdout",
     "output_type": "stream",
     "text": [
      "<class 'pandas.core.frame.DataFrame'>\n",
      "Index: 159 entries, 04-29-1990 to 12-16-1990\n",
      "Data columns (total 8 columns):\n",
      " #   Column  Non-Null Count  Dtype  \n",
      "---  ------  --------------  -----  \n",
      " 0   34      159 non-null    int64  \n",
      " 1   48      159 non-null    int64  \n",
      " 2   58      159 non-null    int64  \n",
      " 3   60      159 non-null    int64  \n",
      " 4   62      159 non-null    int64  \n",
      " 5   33_1    159 non-null    int64  \n",
      " 6   33_2    158 non-null    float64\n",
      " 7   33_3    148 non-null    float64\n",
      "dtypes: float64(2), int64(6)\n",
      "memory usage: 11.2+ KB\n"
     ]
    }
   ],
   "source": [
    "df.info()"
   ]
  },
  {
   "cell_type": "code",
   "execution_count": 355,
   "metadata": {},
   "outputs": [
    {
     "data": {
      "text/plain": [
       "34       0\n",
       "48       0\n",
       "58       0\n",
       "60       0\n",
       "62       0\n",
       "33_1     0\n",
       "33_2     1\n",
       "33_3    11\n",
       "dtype: int64"
      ]
     },
     "execution_count": 355,
     "metadata": {},
     "output_type": "execute_result"
    }
   ],
   "source": [
    "df.isnull().sum()"
   ]
  },
  {
   "cell_type": "markdown",
   "metadata": {},
   "source": [
    "    After take a look at the dataframe after saving: I found less data in some columns.\n",
    "    but in columns like 34,33_1,33_2 and 33_3 I cant use mean to fill the empty cells becuase that a fixed number.\n",
    "        - I will fill cells manually.\n",
    "    but in 48,58,60 and 62 I will use the mean to fill the empty cells on these columns.\n",
    "        - I use pandas mask to fill with mean "
   ]
  },
  {
   "cell_type": "code",
   "execution_count": 356,
   "metadata": {},
   "outputs": [],
   "source": [
    "df.to_csv (\"manual.csv\")"
   ]
  },
  {
   "cell_type": "code",
   "execution_count": 357,
   "metadata": {},
   "outputs": [
    {
     "data": {
      "text/html": [
       "<div>\n",
       "<style scoped>\n",
       "    .dataframe tbody tr th:only-of-type {\n",
       "        vertical-align: middle;\n",
       "    }\n",
       "\n",
       "    .dataframe tbody tr th {\n",
       "        vertical-align: top;\n",
       "    }\n",
       "\n",
       "    .dataframe thead th {\n",
       "        text-align: right;\n",
       "    }\n",
       "</style>\n",
       "<table border=\"1\" class=\"dataframe\">\n",
       "  <thead>\n",
       "    <tr style=\"text-align: right;\">\n",
       "      <th></th>\n",
       "      <th>34</th>\n",
       "      <th>48</th>\n",
       "      <th>58</th>\n",
       "      <th>60</th>\n",
       "      <th>62</th>\n",
       "      <th>33_1</th>\n",
       "      <th>33_2</th>\n",
       "      <th>33_3</th>\n",
       "    </tr>\n",
       "    <tr>\n",
       "      <th>date</th>\n",
       "      <th></th>\n",
       "      <th></th>\n",
       "      <th></th>\n",
       "      <th></th>\n",
       "      <th></th>\n",
       "      <th></th>\n",
       "      <th></th>\n",
       "      <th></th>\n",
       "    </tr>\n",
       "  </thead>\n",
       "  <tbody>\n",
       "    <tr>\n",
       "      <th>4/29/1990</th>\n",
       "      <td>18</td>\n",
       "      <td>102</td>\n",
       "      <td>136</td>\n",
       "      <td>62</td>\n",
       "      <td>81</td>\n",
       "      <td>7</td>\n",
       "      <td>4</td>\n",
       "      <td>6</td>\n",
       "    </tr>\n",
       "    <tr>\n",
       "      <th>4/30/1990</th>\n",
       "      <td>18</td>\n",
       "      <td>162</td>\n",
       "      <td>97</td>\n",
       "      <td>132</td>\n",
       "      <td>144</td>\n",
       "      <td>7</td>\n",
       "      <td>4</td>\n",
       "      <td>6</td>\n",
       "    </tr>\n",
       "    <tr>\n",
       "      <th>5/1/1990</th>\n",
       "      <td>18</td>\n",
       "      <td>180</td>\n",
       "      <td>183</td>\n",
       "      <td>192</td>\n",
       "      <td>139</td>\n",
       "      <td>7</td>\n",
       "      <td>4</td>\n",
       "      <td>6</td>\n",
       "    </tr>\n",
       "    <tr>\n",
       "      <th>5/2/1990</th>\n",
       "      <td>18</td>\n",
       "      <td>162</td>\n",
       "      <td>151</td>\n",
       "      <td>102</td>\n",
       "      <td>135</td>\n",
       "      <td>7</td>\n",
       "      <td>4</td>\n",
       "      <td>6</td>\n",
       "    </tr>\n",
       "    <tr>\n",
       "      <th>5/3/1990</th>\n",
       "      <td>18</td>\n",
       "      <td>150</td>\n",
       "      <td>167</td>\n",
       "      <td>66</td>\n",
       "      <td>97</td>\n",
       "      <td>7</td>\n",
       "      <td>4</td>\n",
       "      <td>6</td>\n",
       "    </tr>\n",
       "  </tbody>\n",
       "</table>\n",
       "</div>"
      ],
      "text/plain": [
       "           34   48   58   60   62  33_1  33_2  33_3\n",
       "date                                               \n",
       "4/29/1990  18  102  136   62   81     7     4     6\n",
       "4/30/1990  18  162   97  132  144     7     4     6\n",
       "5/1/1990   18  180  183  192  139     7     4     6\n",
       "5/2/1990   18  162  151  102  135     7     4     6\n",
       "5/3/1990   18  150  167   66   97     7     4     6"
      ]
     },
     "execution_count": 357,
     "metadata": {},
     "output_type": "execute_result"
    }
   ],
   "source": [
    "df = pd.read_csv(\"manual.csv\",index_col=\"date\")\n",
    "df.head()"
   ]
  },
  {
   "cell_type": "code",
   "execution_count": 358,
   "metadata": {},
   "outputs": [
    {
     "name": "stdout",
     "output_type": "stream",
     "text": [
      "<class 'pandas.core.frame.DataFrame'>\n",
      "Index: 159 entries, 4/29/1990 to 12/16/1990\n",
      "Data columns (total 8 columns):\n",
      " #   Column  Non-Null Count  Dtype\n",
      "---  ------  --------------  -----\n",
      " 0   34      159 non-null    int64\n",
      " 1   48      159 non-null    int64\n",
      " 2   58      159 non-null    int64\n",
      " 3   60      159 non-null    int64\n",
      " 4   62      159 non-null    int64\n",
      " 5   33_1    159 non-null    int64\n",
      " 6   33_2    159 non-null    int64\n",
      " 7   33_3    159 non-null    int64\n",
      "dtypes: int64(8)\n",
      "memory usage: 11.2+ KB\n"
     ]
    }
   ],
   "source": [
    "df.info()"
   ]
  },
  {
   "cell_type": "code",
   "execution_count": 359,
   "metadata": {},
   "outputs": [],
   "source": [
    "#fill the remaning columns by mean\n",
    "df=df.mask(df==0).fillna(df.mean())"
   ]
  },
  {
   "cell_type": "code",
   "execution_count": 360,
   "metadata": {},
   "outputs": [
    {
     "name": "stdout",
     "output_type": "stream",
     "text": [
      "<class 'pandas.core.frame.DataFrame'>\n",
      "Index: 159 entries, 4/29/1990 to 12/16/1990\n",
      "Data columns (total 8 columns):\n",
      " #   Column  Non-Null Count  Dtype  \n",
      "---  ------  --------------  -----  \n",
      " 0   34      159 non-null    int64  \n",
      " 1   48      159 non-null    float64\n",
      " 2   58      159 non-null    float64\n",
      " 3   60      159 non-null    float64\n",
      " 4   62      159 non-null    int64  \n",
      " 5   33_1    159 non-null    int64  \n",
      " 6   33_2    159 non-null    float64\n",
      " 7   33_3    159 non-null    int64  \n",
      "dtypes: float64(4), int64(4)\n",
      "memory usage: 11.2+ KB\n"
     ]
    }
   ],
   "source": [
    "df.info()"
   ]
  },
  {
   "cell_type": "code",
   "execution_count": 361,
   "metadata": {},
   "outputs": [],
   "source": [
    "#save and take a look again\n",
    "df.to_csv (\"manual2.csv\")"
   ]
  },
  {
   "cell_type": "code",
   "execution_count": 362,
   "metadata": {},
   "outputs": [
    {
     "name": "stdout",
     "output_type": "stream",
     "text": [
      "<class 'pandas.core.frame.DataFrame'>\n",
      "Index: 159 entries, 4/29/1990 to 12/16/1990\n",
      "Data columns (total 8 columns):\n",
      " #   Column  Non-Null Count  Dtype  \n",
      "---  ------  --------------  -----  \n",
      " 0   34      159 non-null    int64  \n",
      " 1   48      159 non-null    float64\n",
      " 2   58      159 non-null    float64\n",
      " 3   60      159 non-null    float64\n",
      " 4   62      159 non-null    int64  \n",
      " 5   33_1    159 non-null    int64  \n",
      " 6   33_2    159 non-null    int64  \n",
      " 7   33_3    159 non-null    int64  \n",
      "dtypes: float64(3), int64(5)\n",
      "memory usage: 11.2+ KB\n"
     ]
    }
   ],
   "source": [
    "df = pd.read_csv(\"manual2.csv\",index_col=\"date\")\n",
    "df.info()"
   ]
  },
  {
   "cell_type": "markdown",
   "metadata": {},
   "source": [
    "    -change one cell in 33-2"
   ]
  },
  {
   "cell_type": "markdown",
   "metadata": {},
   "source": [
    "### cleaning code"
   ]
  },
  {
   "cell_type": "code",
   "execution_count": 363,
   "metadata": {},
   "outputs": [
    {
     "data": {
      "text/plain": [
       "34      0\n",
       "48      0\n",
       "58      0\n",
       "60      0\n",
       "62      0\n",
       "33_1    0\n",
       "33_2    0\n",
       "33_3    0\n",
       "dtype: int64"
      ]
     },
     "execution_count": 363,
     "metadata": {},
     "output_type": "execute_result"
    }
   ],
   "source": [
    "df.isnull().sum()"
   ]
  },
  {
   "cell_type": "code",
   "execution_count": 364,
   "metadata": {},
   "outputs": [
    {
     "name": "stdout",
     "output_type": "stream",
     "text": [
      "<class 'pandas.core.frame.DataFrame'>\n",
      "Index: 159 entries, 4/29/1990 to 12/16/1990\n",
      "Data columns (total 8 columns):\n",
      " #   Column  Non-Null Count  Dtype  \n",
      "---  ------  --------------  -----  \n",
      " 0   34      159 non-null    int64  \n",
      " 1   48      159 non-null    float64\n",
      " 2   58      159 non-null    float64\n",
      " 3   60      159 non-null    float64\n",
      " 4   62      159 non-null    int64  \n",
      " 5   33_1    159 non-null    int64  \n",
      " 6   33_2    159 non-null    int64  \n",
      " 7   33_3    159 non-null    int64  \n",
      "dtypes: float64(3), int64(5)\n",
      "memory usage: 11.2+ KB\n"
     ]
    }
   ],
   "source": [
    "df.info()"
   ]
  },
  {
   "cell_type": "code",
   "execution_count": 365,
   "metadata": {},
   "outputs": [],
   "source": [
    "#convert 48,58,60 columns from float to int\n",
    "df = df.astype({\"48\":int})\n",
    "df = df.astype({\"58\":int})\n",
    "df = df.astype({\"60\":int})"
   ]
  },
  {
   "cell_type": "code",
   "execution_count": 366,
   "metadata": {},
   "outputs": [
    {
     "name": "stdout",
     "output_type": "stream",
     "text": [
      "<class 'pandas.core.frame.DataFrame'>\n",
      "Index: 159 entries, 4/29/1990 to 12/16/1990\n",
      "Data columns (total 8 columns):\n",
      " #   Column  Non-Null Count  Dtype\n",
      "---  ------  --------------  -----\n",
      " 0   34      159 non-null    int64\n",
      " 1   48      159 non-null    int32\n",
      " 2   58      159 non-null    int32\n",
      " 3   60      159 non-null    int32\n",
      " 4   62      159 non-null    int64\n",
      " 5   33_1    159 non-null    int64\n",
      " 6   33_2    159 non-null    int64\n",
      " 7   33_3    159 non-null    int64\n",
      "dtypes: int32(3), int64(5)\n",
      "memory usage: 9.3+ KB\n"
     ]
    }
   ],
   "source": [
    "df.info()"
   ]
  },
  {
   "cell_type": "markdown",
   "metadata": {},
   "source": [
    "    Change the name of columns to data name\n",
    "    33 = Regular insulin dose\n",
    "    34 = NPH insulin dose\n",
    "    48 = Unspecified blood glucose measurement\n",
    "    58 = Pre-breakfast blood glucose measurement\n",
    "    60 = Pre-lunch blood glucose measurement\n",
    "    62 = Pre-supper blood glucose measurement"
   ]
  },
  {
   "cell_type": "code",
   "execution_count": 367,
   "metadata": {},
   "outputs": [],
   "source": [
    "#move Regular insulin dose to be in first\n",
    "df = df[[\"33_1\",\"33_2\",\"33_3\",\"34\",\"48\",\"58\",\"60\",\"62\"]]"
   ]
  },
  {
   "cell_type": "code",
   "execution_count": 368,
   "metadata": {},
   "outputs": [],
   "source": [
    "#Change the name of columns to be more understandable\n",
    "df.rename(columns={\"34\": \"NPH insulin\",\n",
    "                   \"48\":\"Unspecified_BGM\",\n",
    "                   \"58\":\"Pre_breakfast_BGM\",\n",
    "                   \"60\":\"Pre_lunch_BGM\",\n",
    "                   \"62\":\"Pre-supper_BGM\",\n",
    "                   \"33_1\":\"Regular_insulin_D1\",\n",
    "                   \"33_2\":\"Regular_insulin_D2\",\n",
    "                   \"33_3\":\"Regular_insulin_D3\"},inplace=True)"
   ]
  },
  {
   "cell_type": "code",
   "execution_count": 369,
   "metadata": {},
   "outputs": [
    {
     "data": {
      "text/html": [
       "<div>\n",
       "<style scoped>\n",
       "    .dataframe tbody tr th:only-of-type {\n",
       "        vertical-align: middle;\n",
       "    }\n",
       "\n",
       "    .dataframe tbody tr th {\n",
       "        vertical-align: top;\n",
       "    }\n",
       "\n",
       "    .dataframe thead th {\n",
       "        text-align: right;\n",
       "    }\n",
       "</style>\n",
       "<table border=\"1\" class=\"dataframe\">\n",
       "  <thead>\n",
       "    <tr style=\"text-align: right;\">\n",
       "      <th></th>\n",
       "      <th>Regular_insulin_D1</th>\n",
       "      <th>Regular_insulin_D2</th>\n",
       "      <th>Regular_insulin_D3</th>\n",
       "      <th>NPH insulin</th>\n",
       "      <th>Unspecified_BGM</th>\n",
       "      <th>Pre_breakfast_BGM</th>\n",
       "      <th>Pre_lunch_BGM</th>\n",
       "      <th>Pre-supper_BGM</th>\n",
       "    </tr>\n",
       "    <tr>\n",
       "      <th>date</th>\n",
       "      <th></th>\n",
       "      <th></th>\n",
       "      <th></th>\n",
       "      <th></th>\n",
       "      <th></th>\n",
       "      <th></th>\n",
       "      <th></th>\n",
       "      <th></th>\n",
       "    </tr>\n",
       "  </thead>\n",
       "  <tbody>\n",
       "    <tr>\n",
       "      <th>4/29/1990</th>\n",
       "      <td>7</td>\n",
       "      <td>4</td>\n",
       "      <td>6</td>\n",
       "      <td>18</td>\n",
       "      <td>102</td>\n",
       "      <td>136</td>\n",
       "      <td>62</td>\n",
       "      <td>81</td>\n",
       "    </tr>\n",
       "    <tr>\n",
       "      <th>4/30/1990</th>\n",
       "      <td>7</td>\n",
       "      <td>4</td>\n",
       "      <td>6</td>\n",
       "      <td>18</td>\n",
       "      <td>162</td>\n",
       "      <td>97</td>\n",
       "      <td>132</td>\n",
       "      <td>144</td>\n",
       "    </tr>\n",
       "    <tr>\n",
       "      <th>5/1/1990</th>\n",
       "      <td>7</td>\n",
       "      <td>4</td>\n",
       "      <td>6</td>\n",
       "      <td>18</td>\n",
       "      <td>180</td>\n",
       "      <td>183</td>\n",
       "      <td>192</td>\n",
       "      <td>139</td>\n",
       "    </tr>\n",
       "    <tr>\n",
       "      <th>5/2/1990</th>\n",
       "      <td>7</td>\n",
       "      <td>4</td>\n",
       "      <td>6</td>\n",
       "      <td>18</td>\n",
       "      <td>162</td>\n",
       "      <td>151</td>\n",
       "      <td>102</td>\n",
       "      <td>135</td>\n",
       "    </tr>\n",
       "    <tr>\n",
       "      <th>5/3/1990</th>\n",
       "      <td>7</td>\n",
       "      <td>4</td>\n",
       "      <td>6</td>\n",
       "      <td>18</td>\n",
       "      <td>150</td>\n",
       "      <td>167</td>\n",
       "      <td>66</td>\n",
       "      <td>97</td>\n",
       "    </tr>\n",
       "    <tr>\n",
       "      <th>...</th>\n",
       "      <td>...</td>\n",
       "      <td>...</td>\n",
       "      <td>...</td>\n",
       "      <td>...</td>\n",
       "      <td>...</td>\n",
       "      <td>...</td>\n",
       "      <td>...</td>\n",
       "      <td>...</td>\n",
       "    </tr>\n",
       "    <tr>\n",
       "      <th>12/12/1990</th>\n",
       "      <td>6</td>\n",
       "      <td>5</td>\n",
       "      <td>6</td>\n",
       "      <td>20</td>\n",
       "      <td>174</td>\n",
       "      <td>227</td>\n",
       "      <td>198</td>\n",
       "      <td>181</td>\n",
       "    </tr>\n",
       "    <tr>\n",
       "      <th>12/13/1990</th>\n",
       "      <td>6</td>\n",
       "      <td>5</td>\n",
       "      <td>6</td>\n",
       "      <td>20</td>\n",
       "      <td>160</td>\n",
       "      <td>225</td>\n",
       "      <td>169</td>\n",
       "      <td>99</td>\n",
       "    </tr>\n",
       "    <tr>\n",
       "      <th>12/14/1990</th>\n",
       "      <td>6</td>\n",
       "      <td>5</td>\n",
       "      <td>6</td>\n",
       "      <td>20</td>\n",
       "      <td>143</td>\n",
       "      <td>234</td>\n",
       "      <td>196</td>\n",
       "      <td>122</td>\n",
       "    </tr>\n",
       "    <tr>\n",
       "      <th>12/15/1990</th>\n",
       "      <td>6</td>\n",
       "      <td>5</td>\n",
       "      <td>6</td>\n",
       "      <td>20</td>\n",
       "      <td>188</td>\n",
       "      <td>158</td>\n",
       "      <td>97</td>\n",
       "      <td>112</td>\n",
       "    </tr>\n",
       "    <tr>\n",
       "      <th>12/16/1990</th>\n",
       "      <td>6</td>\n",
       "      <td>5</td>\n",
       "      <td>6</td>\n",
       "      <td>20</td>\n",
       "      <td>92</td>\n",
       "      <td>206</td>\n",
       "      <td>56</td>\n",
       "      <td>135</td>\n",
       "    </tr>\n",
       "  </tbody>\n",
       "</table>\n",
       "<p>159 rows × 8 columns</p>\n",
       "</div>"
      ],
      "text/plain": [
       "            Regular_insulin_D1  Regular_insulin_D2  Regular_insulin_D3  \\\n",
       "date                                                                     \n",
       "4/29/1990                    7                   4                   6   \n",
       "4/30/1990                    7                   4                   6   \n",
       "5/1/1990                     7                   4                   6   \n",
       "5/2/1990                     7                   4                   6   \n",
       "5/3/1990                     7                   4                   6   \n",
       "...                        ...                 ...                 ...   \n",
       "12/12/1990                   6                   5                   6   \n",
       "12/13/1990                   6                   5                   6   \n",
       "12/14/1990                   6                   5                   6   \n",
       "12/15/1990                   6                   5                   6   \n",
       "12/16/1990                   6                   5                   6   \n",
       "\n",
       "            NPH insulin  Unspecified_BGM  Pre_breakfast_BGM  Pre_lunch_BGM  \\\n",
       "date                                                                         \n",
       "4/29/1990            18              102                136             62   \n",
       "4/30/1990            18              162                 97            132   \n",
       "5/1/1990             18              180                183            192   \n",
       "5/2/1990             18              162                151            102   \n",
       "5/3/1990             18              150                167             66   \n",
       "...                 ...              ...                ...            ...   \n",
       "12/12/1990           20              174                227            198   \n",
       "12/13/1990           20              160                225            169   \n",
       "12/14/1990           20              143                234            196   \n",
       "12/15/1990           20              188                158             97   \n",
       "12/16/1990           20               92                206             56   \n",
       "\n",
       "            Pre-supper_BGM  \n",
       "date                        \n",
       "4/29/1990               81  \n",
       "4/30/1990              144  \n",
       "5/1/1990               139  \n",
       "5/2/1990               135  \n",
       "5/3/1990                97  \n",
       "...                    ...  \n",
       "12/12/1990             181  \n",
       "12/13/1990              99  \n",
       "12/14/1990             122  \n",
       "12/15/1990             112  \n",
       "12/16/1990             135  \n",
       "\n",
       "[159 rows x 8 columns]"
      ]
     },
     "execution_count": 369,
     "metadata": {},
     "output_type": "execute_result"
    }
   ],
   "source": [
    "df"
   ]
  },
  {
   "cell_type": "code",
   "execution_count": 370,
   "metadata": {},
   "outputs": [],
   "source": [
    "df.to_csv(\"final.csv\")"
   ]
  },
  {
   "cell_type": "code",
   "execution_count": null,
   "metadata": {},
   "outputs": [],
   "source": []
  }
 ],
 "metadata": {
  "kernelspec": {
   "display_name": "Python 3",
   "language": "python",
   "name": "python3"
  },
  "language_info": {
   "codemirror_mode": {
    "name": "ipython",
    "version": 3
   },
   "file_extension": ".py",
   "mimetype": "text/x-python",
   "name": "python",
   "nbconvert_exporter": "python",
   "pygments_lexer": "ipython3",
   "version": "3.8.3"
  }
 },
 "nbformat": 4,
 "nbformat_minor": 4
}
